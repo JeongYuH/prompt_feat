{
 "cells": [
  {
   "cell_type": "code",
   "execution_count": 1,
   "metadata": {},
   "outputs": [
    {
     "name": "stdout",
     "output_type": "stream",
     "text": [
      "Requirement already satisfied: pandas in c:\\users\\bewis\\onedrive\\바탕 화면\\prompt\\lingo\\lib\\site-packages (2.2.2)\n",
      "Requirement already satisfied: pyarrow in c:\\users\\bewis\\onedrive\\바탕 화면\\prompt\\lingo\\lib\\site-packages (16.1.0)\n",
      "Requirement already satisfied: fastparquet in c:\\users\\bewis\\onedrive\\바탕 화면\\prompt\\lingo\\lib\\site-packages (2024.5.0)\n",
      "Requirement already satisfied: numpy>=1.23.2 in c:\\users\\bewis\\onedrive\\바탕 화면\\prompt\\lingo\\lib\\site-packages (from pandas) (1.26.4)\n",
      "Requirement already satisfied: python-dateutil>=2.8.2 in c:\\users\\bewis\\onedrive\\바탕 화면\\prompt\\lingo\\lib\\site-packages (from pandas) (2.9.0.post0)\n",
      "Requirement already satisfied: pytz>=2020.1 in c:\\users\\bewis\\onedrive\\바탕 화면\\prompt\\lingo\\lib\\site-packages (from pandas) (2024.1)\n",
      "Requirement already satisfied: tzdata>=2022.7 in c:\\users\\bewis\\onedrive\\바탕 화면\\prompt\\lingo\\lib\\site-packages (from pandas) (2024.1)\n",
      "Requirement already satisfied: cramjam>=2.3 in c:\\users\\bewis\\onedrive\\바탕 화면\\prompt\\lingo\\lib\\site-packages (from fastparquet) (2.8.3)\n",
      "Requirement already satisfied: fsspec in c:\\users\\bewis\\onedrive\\바탕 화면\\prompt\\lingo\\lib\\site-packages (from fastparquet) (2024.6.0)\n",
      "Requirement already satisfied: packaging in c:\\users\\bewis\\onedrive\\바탕 화면\\prompt\\lingo\\lib\\site-packages (from fastparquet) (24.1)\n",
      "Requirement already satisfied: six>=1.5 in c:\\users\\bewis\\onedrive\\바탕 화면\\prompt\\lingo\\lib\\site-packages (from python-dateutil>=2.8.2->pandas) (1.16.0)\n"
     ]
    },
    {
     "name": "stderr",
     "output_type": "stream",
     "text": [
      "\n",
      "[notice] A new release of pip is available: 24.0 -> 24.1\n",
      "[notice] To update, run: python.exe -m pip install --upgrade pip\n"
     ]
    }
   ],
   "source": [
    "!pip install pandas pyarrow fastparquet\n"
   ]
  },
  {
   "cell_type": "code",
   "execution_count": 3,
   "metadata": {},
   "outputs": [],
   "source": [
    "import pandas as pd\n",
    "from Generate_chat import ChatBot"
   ]
  },
  {
   "cell_type": "code",
   "execution_count": 4,
   "metadata": {},
   "outputs": [],
   "source": [
    "df = pd.read_parquet('Chatbot_pipeline\\\\Chat_log\\\\persona_orbit_dataset\\\\KoAlpaca_v1.1_orbit_v1.4.3\\\\train-00000-of-00001.parquet')"
   ]
  },
  {
   "cell_type": "code",
   "execution_count": 11,
   "metadata": {},
   "outputs": [],
   "source": [
    "inputs = df['instruction'][-50:-20]"
   ]
  },
  {
   "cell_type": "code",
   "execution_count": 12,
   "metadata": {},
   "outputs": [],
   "source": [
    "char = \"궤도\"\n",
    "char_personality = '''\n",
    "You are a famous Science Communicator in Korea. Your job is explain scientific informations easily to understood science for normal people. You like this work, kept try to speak for user.\n",
    "You're nerdy think talk about explaining general knowledge to scientific aspect. You should extract first the [related scientific theory] for explain [subject] and answer clearly based on scientific facts.\n",
    "When you chat wiht {user}, talk beyond the topic in a stream of consciousness manner in explaining scientific facts.\n",
    "\n",
    "When you chat with {user}, begin like this: \"[subject]도 과학이죠. [subject]의 과학. [subject]를 이해하기 위해서는 [scientific theory]를 먼저 알아야해요.\"\n",
    "\n",
    "When you finish chat, in sometimes, finishing like this: \"[scientific theory]도 연관되어 있어요. 하지만 시간 관계상 여기까지만 말하겠습니다.\"\n",
    "\n",
    "You should talk as detail as possible to explain that subjects.\n",
    "'''\n",
    "scenario = '''\n",
    "{char} and {user} are in a talk show, discussing scientific facts in detail.\n",
    "'''\n",
    "first_message = \"안녕하세요, 과학커뮤니케이터 궤도 입니다.\"\n",
    "user = \"User\""
   ]
  },
  {
   "cell_type": "code",
   "execution_count": 13,
   "metadata": {},
   "outputs": [
    {
     "name": "stdout",
     "output_type": "stream",
     "text": [
      "전자레인지 문에 달려있는 이상한 검은색 그물모양은 뭐죠? \n",
      "전자레인지를 닫을때 문에 이상한 그물이 달려 있는 것을 보신 적이 있나요? 이 그 물같은 것이 왜 있을까 궁금합니다.\n"
     ]
    }
   ],
   "source": [
    "num = 20\n",
    "for input in inputs:\n",
    "    print(input)\n",
    "    chatbot = ChatBot(char, user, char_personality, scenario, first_message)\n",
    "    chatbot.question_answer(input=input, file_name=f\"Chatbot_pipeline\\\\Chat_log\\\\conversation_history_{num}.json\", turn_count=3)\n",
    "    num += 1"
   ]
  },
  {
   "cell_type": "code",
   "execution_count": null,
   "metadata": {},
   "outputs": [],
   "source": []
  }
 ],
 "metadata": {
  "kernelspec": {
   "display_name": "lingo",
   "language": "python",
   "name": "python3"
  },
  "language_info": {
   "codemirror_mode": {
    "name": "ipython",
    "version": 3
   },
   "file_extension": ".py",
   "mimetype": "text/x-python",
   "name": "python",
   "nbconvert_exporter": "python",
   "pygments_lexer": "ipython3",
   "version": "3.11.9"
  }
 },
 "nbformat": 4,
 "nbformat_minor": 2
}
